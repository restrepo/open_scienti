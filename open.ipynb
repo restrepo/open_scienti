{
 "cells": [
  {
   "cell_type": "markdown",
   "id": "8e6b7f3c-9e3a-42bb-b997-7f2d8e87846e",
   "metadata": {},
   "source": [
    "Problemas detectados:\n",
    "\n",
    "* Se está usando el metadato del título de Google Scholar. El metadato de título debería ser el de la mejor calidad posible \n",
    "* Revisar el uso de los autores en la creación del link de Google Lookup"
   ]
  },
  {
   "cell_type": "code",
   "execution_count": 1,
   "id": "26b8ae86-724c-4f3c-931c-5b18d0c00da2",
   "metadata": {},
   "outputs": [],
   "source": [
    "import pandas as pd                                                                                                                                                                                                                                                                                                                                                                                                                                                                                                                                                                                             "
   ]
  },
  {
   "cell_type": "code",
   "execution_count": 2,
   "id": "fda021f9-73c9-4c1d-aff1-a99529704e8c",
   "metadata": {},
   "outputs": [],
   "source": [
    "df=pd.read_csv('data/1-Producci_n_Grupos_Investigaci_n.csv',low_memory=False)#,nrows=100)"
   ]
  },
  {
   "cell_type": "code",
   "execution_count": 3,
   "id": "dad57cfb-6b4b-4823-a7cd-119562e473ad",
   "metadata": {},
   "outputs": [
    {
     "data": {
      "text/plain": [
       "(2254793, 14)"
      ]
     },
     "execution_count": 3,
     "metadata": {},
     "output_type": "execute_result"
    }
   ],
   "source": [
    "df.shape"
   ]
  },
  {
   "cell_type": "code",
   "execution_count": 4,
   "id": "d1b441f0-6181-4fa0-ac91-4ea8afd370fb",
   "metadata": {},
   "outputs": [],
   "source": [
    "df=df[df['NME_TIPOLOGIA_PD']=='Artículos de investigación'].reset_index(drop=True)"
   ]
  },
  {
   "cell_type": "code",
   "execution_count": 5,
   "id": "3b43d649-f5b2-4a31-b9e6-ab96fb420467",
   "metadata": {},
   "outputs": [],
   "source": [
    "df=df.sample(1000).reset_index(drop=True)"
   ]
  },
  {
   "cell_type": "code",
   "execution_count": 23,
   "id": "03e00f6b-9505-4e98-98fd-2f4e5f743bf7",
   "metadata": {},
   "outputs": [],
   "source": [
    "df.to_csv('data/open_scienti_sample.csv',index=False)"
   ]
  },
  {
   "cell_type": "code",
   "execution_count": 7,
   "id": "a6bcb5e6-332a-48c0-8d15-dceca17d267f",
   "metadata": {},
   "outputs": [],
   "source": [
    "co=pd.read_json('data/scholar_colombia.json',orient='records',lines=True)#,nrows=1)"
   ]
  },
  {
   "cell_type": "code",
   "execution_count": 8,
   "id": "4a48f2d2-a34e-4fcd-83b2-4b3a248c5769",
   "metadata": {},
   "outputs": [],
   "source": [
    "co=co.drop(['abstract','cites_link','lookup_url'],axis='columns')"
   ]
  },
  {
   "cell_type": "code",
   "execution_count": 9,
   "id": "f015eed2-786d-4a27-afe0-71a91e887f34",
   "metadata": {},
   "outputs": [
    {
     "data": {
      "text/plain": [
       "(181040, 21)"
      ]
     },
     "execution_count": 9,
     "metadata": {},
     "output_type": "execute_result"
    }
   ],
   "source": [
    "co.shape"
   ]
  },
  {
   "cell_type": "code",
   "execution_count": 10,
   "id": "393c3b6f-338e-4b60-bd59-5039453d071e",
   "metadata": {},
   "outputs": [],
   "source": [
    "import wosplus as wp"
   ]
  },
  {
   "cell_type": "code",
   "execution_count": 11,
   "id": "1bf35fa2-d5e4-4a46-b6e7-f97b37c04f73",
   "metadata": {},
   "outputs": [
    {
     "data": {
      "text/plain": [
       "\u001b[0;31mSignature:\u001b[0m\n",
       "\u001b[0mwp\u001b[0m\u001b[0;34m.\u001b[0m\u001b[0mmerge_with_close_matches\u001b[0m\u001b[0;34m(\u001b[0m\u001b[0;34m\u001b[0m\n",
       "\u001b[0;34m\u001b[0m    \u001b[0mleft\u001b[0m\u001b[0;34m,\u001b[0m\u001b[0;34m\u001b[0m\n",
       "\u001b[0;34m\u001b[0m    \u001b[0mright\u001b[0m\u001b[0;34m,\u001b[0m\u001b[0;34m\u001b[0m\n",
       "\u001b[0;34m\u001b[0m    \u001b[0mleft_on\u001b[0m\u001b[0;34m=\u001b[0m\u001b[0;34m'ST'\u001b[0m\u001b[0;34m,\u001b[0m\u001b[0;34m\u001b[0m\n",
       "\u001b[0;34m\u001b[0m    \u001b[0mright_on\u001b[0m\u001b[0;34m=\u001b[0m\u001b[0;34m'UDEA_simple_título'\u001b[0m\u001b[0;34m,\u001b[0m\u001b[0;34m\u001b[0m\n",
       "\u001b[0;34m\u001b[0m    \u001b[0mleft_extra_on\u001b[0m\u001b[0;34m=\u001b[0m\u001b[0;34m'SO'\u001b[0m\u001b[0;34m,\u001b[0m\u001b[0;34m\u001b[0m\n",
       "\u001b[0;34m\u001b[0m    \u001b[0mright_extra_on\u001b[0m\u001b[0;34m=\u001b[0m\u001b[0;34m'UDEA_nombre revista o premio'\u001b[0m\u001b[0;34m,\u001b[0m\u001b[0;34m\u001b[0m\n",
       "\u001b[0;34m\u001b[0m    \u001b[0mhow\u001b[0m\u001b[0;34m=\u001b[0m\u001b[0;34m'inner'\u001b[0m\u001b[0;34m,\u001b[0m\u001b[0;34m\u001b[0m\n",
       "\u001b[0;34m\u001b[0m    \u001b[0mn\u001b[0m\u001b[0;34m=\u001b[0m\u001b[0;36m1\u001b[0m\u001b[0;34m,\u001b[0m\u001b[0;34m\u001b[0m\n",
       "\u001b[0;34m\u001b[0m    \u001b[0mcutoff\u001b[0m\u001b[0;34m=\u001b[0m\u001b[0;36m0.6\u001b[0m\u001b[0;34m,\u001b[0m\u001b[0;34m\u001b[0m\n",
       "\u001b[0;34m\u001b[0m    \u001b[0mfull\u001b[0m\u001b[0;34m=\u001b[0m\u001b[0;32mTrue\u001b[0m\u001b[0;34m,\u001b[0m\u001b[0;34m\u001b[0m\n",
       "\u001b[0;34m\u001b[0m    \u001b[0mcutoff_extra\u001b[0m\u001b[0;34m=\u001b[0m\u001b[0;36m0.6\u001b[0m\u001b[0;34m,\u001b[0m\u001b[0;34m\u001b[0m\n",
       "\u001b[0;34m\u001b[0m\u001b[0;34m)\u001b[0m\u001b[0;34m\u001b[0m\u001b[0;34m\u001b[0m\u001b[0m\n",
       "\u001b[0;31mDocstring:\u001b[0m\n",
       "For each entry of the column: left_on of DataFrame left (cannot have empty fields),\n",
       "try to find the close match inside each row of right DataFrame, by comparing with\n",
       "the right_on entry of the row. When a row match is found, the full right row is appended\n",
       "to the matched row in the left DataFrame.\n",
       "If the similarity between the entries at left_on and right_on is less than 0.8,\n",
       "an additional check is performed between the entries left_extra_on and right_extra_on\n",
       "of the matched row.\n",
       "\n",
       "how implemented: inner and left (Default: inner)\n",
       "\u001b[0;31mFile:\u001b[0m      /usr/local/lib/python3.9/dist-packages/wosplus/_wos_scp.py\n",
       "\u001b[0;31mType:\u001b[0m      function\n"
      ]
     },
     "metadata": {},
     "output_type": "display_data"
    }
   ],
   "source": [
    "wp.merge_with_close_matches?"
   ]
  },
  {
   "cell_type": "code",
   "execution_count": 12,
   "id": "562c8192-a7a7-4f8d-bb12-e0ab989c9135",
   "metadata": {},
   "outputs": [
    {
     "data": {
      "text/plain": [
       "Index(['ID_CONVOCATORIA', 'NME_CONVOCATORIA', 'ANO_CONVO', 'ID_PRODUCTO_PD',\n",
       "       'NME_CLASE_PD', 'NME_TIPO_MEDICION_PD', 'NME_TIPOLOGIA_PD',\n",
       "       'ID_TIPO_PD_MED', 'NME_CATEGORIA_PD', 'FCREACION_PD', 'NME_PRODUCTO_PD',\n",
       "       'COD_GRUPO_GR', 'NME_GRUPO_GR', 'ID_PERSONA_PD'],\n",
       "      dtype='object')"
      ]
     },
     "execution_count": 12,
     "metadata": {},
     "output_type": "execute_result"
    }
   ],
   "source": [
    "df.columns"
   ]
  },
  {
   "cell_type": "code",
   "execution_count": 18,
   "id": "8c782c8b-9927-4cf1-9776-f868c5430ec7",
   "metadata": {},
   "outputs": [],
   "source": [
    "df['year']=df['FCREACION_PD'].str.split('/').str[-1]"
   ]
  },
  {
   "cell_type": "code",
   "execution_count": 13,
   "id": "7620bc18-3e1b-4cb5-ad21-678bcd0db359",
   "metadata": {},
   "outputs": [
    {
     "data": {
      "text/plain": [
       "Index(['_id', 'title', 'author', 'profiles', 'cites', 'journal', 'publisher',\n",
       "       'country', 'doi', 'year', 'volume', 'issue', 'pages', 'ref', 'pdf',\n",
       "       'cid', 'rp', 'bibtex', 'old_title', 'article_id', 'timestamp'],\n",
       "      dtype='object')"
      ]
     },
     "execution_count": 13,
     "metadata": {},
     "output_type": "execute_result"
    }
   ],
   "source": [
    "co.columns"
   ]
  },
  {
   "cell_type": "code",
   "execution_count": 19,
   "id": "a68889e3-9f33-4145-ab47-0c907692539b",
   "metadata": {},
   "outputs": [
    {
     "name": "stdout",
     "output_type": "stream",
     "text": [
      ".........."
     ]
    }
   ],
   "source": [
    "mt=wp.merge_with_close_matches(df[['NME_PRODUCTO_PD','year']],co[['title', 'year']],\n",
    "                              left_on='NME_PRODUCTO_PD',\n",
    "                              right_on='title',\n",
    "                              left_extra_on='year',\n",
    "                              right_extra_on='year',\n",
    "                              how='left',                              \n",
    "                              )"
   ]
  },
  {
   "cell_type": "code",
   "execution_count": 25,
   "id": "c369cabf-22da-4b47-ab36-5f1276de8f4b",
   "metadata": {},
   "outputs": [],
   "source": [
    "mt=mt.dropna(subset=['title'])"
   ]
  },
  {
   "cell_type": "code",
   "execution_count": 29,
   "id": "05cc7416-a5d0-408c-9ade-395bf3a9de35",
   "metadata": {},
   "outputs": [],
   "source": [
    "pd.set_option('display.max_colwidth',200)\n",
    "pd.set_option('display.max_rows', 1000)"
   ]
  },
  {
   "cell_type": "code",
   "execution_count": 39,
   "id": "379a0d8a-540d-455f-a977-977b2de9795d",
   "metadata": {},
   "outputs": [],
   "source": [
    "from fuzzywuzzy import fuzz\n",
    "from unidecode import unidecode"
   ]
  },
  {
   "cell_type": "code",
   "execution_count": 40,
   "id": "becee610-81ca-4793-9ee6-05f1095e74d0",
   "metadata": {},
   "outputs": [
    {
     "data": {
      "text/plain": [
       "'a'"
      ]
     },
     "execution_count": 40,
     "metadata": {},
     "output_type": "execute_result"
    }
   ],
   "source": [
    "unidecode('á')"
   ]
  },
  {
   "cell_type": "code",
   "execution_count": 53,
   "id": "c9c31cad-8c78-4e9b-9fbb-d812c5e7b9d0",
   "metadata": {},
   "outputs": [],
   "source": [
    "import re"
   ]
  },
  {
   "cell_type": "code",
   "execution_count": 122,
   "id": "3701c2a8-2337-4f73-9acb-82da091ad831",
   "metadata": {},
   "outputs": [
    {
     "name": "stderr",
     "output_type": "stream",
     "text": [
      "/tmp/ipykernel_132733/2140895428.py:1: SettingWithCopyWarning: \n",
      "A value is trying to be set on a copy of a slice from a DataFrame.\n",
      "Try using .loc[row_indexer,col_indexer] = value instead\n",
      "\n",
      "See the caveats in the documentation: https://pandas.pydata.org/pandas-docs/stable/user_guide/indexing.html#returning-a-view-versus-a-copy\n",
      "  mt['ratio']=mt.apply(lambda row:  fuzz.ratio( re.sub(r'\\\\\\w+\\s*',r'',\n"
     ]
    }
   ],
   "source": [
    "mt['ratio']=mt.apply(lambda row:  fuzz.ratio( re.sub(r'\\\\\\w+\\s*',r'',\n",
    "                                              unidecode(row['NME_PRODUCTO_PD'].lower().strip(\n",
    "                                              ).replace('.','').replace('$','') ) \n",
    "                                                    ),\n",
    "                                              re.sub(r'\\\\\\w+\\s*',r'',\n",
    "                                              unidecode(row['title'].lower().strip(\n",
    "                                              ).replace('.','').replace('$','') )\n",
    "                                                    )\n",
    "                                                    ),\n",
    "                                 axis='columns')"
   ]
  },
  {
   "cell_type": "code",
   "execution_count": 123,
   "id": "d3498dd5-09af-4079-b593-7aa395d15e1c",
   "metadata": {},
   "outputs": [
    {
     "data": {
      "text/plain": [
       "(535, 5)"
      ]
     },
     "execution_count": 123,
     "metadata": {},
     "output_type": "execute_result"
    }
   ],
   "source": [
    "mt[ (mt['ratio']>80) ].shape #& (mt['ratio']<90) ].reset_index(drop=True)"
   ]
  },
  {
   "cell_type": "code",
   "execution_count": 130,
   "id": "0c6d5884-ef51-49ea-8b95-fe4341677624",
   "metadata": {},
   "outputs": [],
   "source": [
    "co['Gtitle']=co['bibtex'].str.split('title=\\{').str[-1].str.split('\\},\\\\n').str[0]"
   ]
  },
  {
   "cell_type": "code",
   "execution_count": 133,
   "id": "d152c91c-cbf6-4ac5-834e-81ea6f7b4ff6",
   "metadata": {},
   "outputs": [],
   "source": [
    "mt=mt.merge(co[['title','Gtitle']],on='title',how='left')"
   ]
  },
  {
   "cell_type": "code",
   "execution_count": 134,
   "id": "b2ea67be-3c2b-4412-b0b5-9e22f0674de6",
   "metadata": {},
   "outputs": [
    {
     "data": {
      "text/html": [
       "<div>\n",
       "<style scoped>\n",
       "    .dataframe tbody tr th:only-of-type {\n",
       "        vertical-align: middle;\n",
       "    }\n",
       "\n",
       "    .dataframe tbody tr th {\n",
       "        vertical-align: top;\n",
       "    }\n",
       "\n",
       "    .dataframe thead th {\n",
       "        text-align: right;\n",
       "    }\n",
       "</style>\n",
       "<table border=\"1\" class=\"dataframe\">\n",
       "  <thead>\n",
       "    <tr style=\"text-align: right;\">\n",
       "      <th></th>\n",
       "      <th>NME_PRODUCTO_PD</th>\n",
       "      <th>year</th>\n",
       "      <th>title</th>\n",
       "      <th>year</th>\n",
       "      <th>ratio</th>\n",
       "      <th>Gtitle</th>\n",
       "    </tr>\n",
       "  </thead>\n",
       "  <tbody>\n",
       "    <tr>\n",
       "      <th>0</th>\n",
       "      <td>Riqueza genérica y distribución de Elmidae (Insecta: Coleoptera, Byrrhoidea) en el departamento del Valle del Cauca, Colombia</td>\n",
       "      <td>2015</td>\n",
       "      <td>Riqueza y distribución de Elmidae (Insecta: Coleoptera: Byrrhoidea) en el departamento del Chocó, Colombia</td>\n",
       "      <td>2016</td>\n",
       "      <td>88</td>\n",
       "      <td>Riqueza y distribuci{\\'o}n de Elmidae (Insecta: Coleoptera: Byrrhoidea) en el departamento del Choc{\\'o}, Colombia</td>\n",
       "    </tr>\n",
       "    <tr>\n",
       "      <th>1</th>\n",
       "      <td>Efficient Software Implementation of the Nearly Optimal Sparse Fast Fourier Transform for the Noisy Case</td>\n",
       "      <td>2015</td>\n",
       "      <td>Efficient Software Implementation of the Nearly Optimal Sparse Fast Fourier Transform for the Noisy Case. ing. cienc.[online]. 2015, vol. 11, n. 22</td>\n",
       "      <td>1794</td>\n",
       "      <td>85</td>\n",
       "      <td>Efficient Software Implementation of the Nearly Optimal Sparse Fast Fourier Transform for the Noisy Case. ing. cienc.[online]. 2015, vol. 11, n. 22</td>\n",
       "    </tr>\n",
       "    <tr>\n",
       "      <th>2</th>\n",
       "      <td>Gastric mucosa-Associated lymphoid tissue lymphomas and Helicobacter pylori infection</td>\n",
       "      <td>2012</td>\n",
       "      <td>Gastric mucosa-associated lymphoid tissue lymphomas and Helicobacter pylori infection: a Colombian perspective</td>\n",
       "      <td>2012</td>\n",
       "      <td>87</td>\n",
       "      <td>Gastric mucosa-associated lymphoid tissue lymphomas and Helicobacter pylori infection: a Colombian perspective</td>\n",
       "    </tr>\n",
       "    <tr>\n",
       "      <th>3</th>\n",
       "      <td>Determinación de anticuerpos totales (IgG/IgM) y específicos (IgM) para el virus de la hepatitis E y detección molecular del virus en heces de humanos con o sin exposición ocupacional a porcinos e...</td>\n",
       "      <td>2015</td>\n",
       "      <td>Determinação de anticorpos totais (IgG/IgM) e especı́ficos (IgM) para o v\\ŕus da hepatite E e detecção molecular do v\\'ús em fezes de humanos com ou sem exposição ocupacional a porcinos em 10 muni...</td>\n",
       "      <td>2015</td>\n",
       "      <td>86</td>\n",
       "      <td>Determina{\\c{c}}{\\~a}o de anticorpos totais (IgG/IgM) e espec{\\'\\i}ficos (IgM) para o v{\\'\\i}rus da hepatite E e detec{\\c{c}}{\\~a}o molecular do v{\\'\\i}rus em fezes de humanos com ou sem exposi{\\c...</td>\n",
       "    </tr>\n",
       "    <tr>\n",
       "      <th>4</th>\n",
       "      <td>Measurements of inclusive W and Z cross sections in pp collisions at &amp;#8730;s = 7 TeV The CMS collaboration</td>\n",
       "      <td>2011</td>\n",
       "      <td>Measurements of inclusive W and Z cross sections in pp collisions at $$\\backslash$sqrt $\\$s$\\$= 7$ TeV</td>\n",
       "      <td>2011</td>\n",
       "      <td>83</td>\n",
       "      <td>Measurements of inclusive W and Z cross sections in pp collisions at $$\\backslash$sqrt $\\{$s$\\}$= 7$ TeV</td>\n",
       "    </tr>\n",
       "    <tr>\n",
       "      <th>5</th>\n",
       "      <td>112. Hydrostatic pressure and electric and magnetic field effects on the binding energy of a hydrogenic donor impurity in InAs Poschl-Teller quantum ring</td>\n",
       "      <td>2012</td>\n",
       "      <td>Hydrostatic pressure, impurity position and electric and magnetic field effects on the binding energy and photo-ionization cross section of a hydrogenic donor impurity in an InAs Pöschl-Teller qua...</td>\n",
       "      <td>2011</td>\n",
       "      <td>83</td>\n",
       "      <td>Hydrostatic pressure, impurity position and electric and magnetic field effects on the binding energy and photo-ionization cross section of a hydrogenic donor impurity in an InAs P{\\\"o}schl-Teller...</td>\n",
       "    </tr>\n",
       "    <tr>\n",
       "      <th>6</th>\n",
       "      <td>Crítica al control jerárquico de los regímenes políticos: complejidad y topología</td>\n",
       "      <td>2015</td>\n",
       "      <td>Crı́tica ao controle hierárquico dos regimes pol\\t́icos: complexidade e topologia</td>\n",
       "      <td>2015</td>\n",
       "      <td>86</td>\n",
       "      <td>Cr{\\'\\i}tica ao controle hier{\\'a}rquico dos regimes pol{\\'\\i}ticos: complexidade e topologia</td>\n",
       "    </tr>\n",
       "    <tr>\n",
       "      <th>7</th>\n",
       "      <td>The interplay between sharing behavior and beliefs about others in children.</td>\n",
       "      <td>2018</td>\n",
       "      <td>The interplay between sharing behavior and beliefs about others in children during dictator games</td>\n",
       "      <td>2018</td>\n",
       "      <td>87</td>\n",
       "      <td>The interplay between sharing behavior and beliefs about others in children during dictator games</td>\n",
       "    </tr>\n",
       "    <tr>\n",
       "      <th>8</th>\n",
       "      <td>La estructura de capital en las medianas empresas del departamento de Boyacá, Colombia</td>\n",
       "      <td>2015</td>\n",
       "      <td>La estructura de capital en las medianas empresas del departamento de Boyacá, Colombia. Apuntes del CENES, 34 (59), 185-206</td>\n",
       "      <td>2015</td>\n",
       "      <td>83</td>\n",
       "      <td>La estructura de capital en las medianas empresas del departamento de Boyac{\\'a}, Colombia. Apuntes del CENES, 34 (59), 185-206</td>\n",
       "    </tr>\n",
       "    <tr>\n",
       "      <th>9</th>\n",
       "      <td>Letters to editor Laryngeal histoplasmosis: report first case in Colombia</td>\n",
       "      <td>2015</td>\n",
       "      <td>Laryngeal Histoplasmosis: report first case in Colombia</td>\n",
       "      <td>2014</td>\n",
       "      <td>86</td>\n",
       "      <td>Laryngeal Histoplasmosis: report first case in Colombia</td>\n",
       "    </tr>\n",
       "    <tr>\n",
       "      <th>10</th>\n",
       "      <td>Letters to editor Laryngeal histoplasmosis: report first case in Colombia</td>\n",
       "      <td>2015</td>\n",
       "      <td>Laryngeal Histoplasmosis: report first case in Colombia</td>\n",
       "      <td>2014</td>\n",
       "      <td>86</td>\n",
       "      <td>Laryngeal Histoplasmosis: report first case in Colombia</td>\n",
       "    </tr>\n",
       "    <tr>\n",
       "      <th>11</th>\n",
       "      <td>GRUPOS FUNCIONALES ALIMENTICIOS DE MACROINVERTEBRADOS ACUÁTICOS EN UN ARROYO TROPICAL (COLOMBIA)</td>\n",
       "      <td>2016</td>\n",
       "      <td>Grupos funcionales alimentarios de macroinvertebrados acuáticos en el rı́o Gaira, Colombia</td>\n",
       "      <td>2011</td>\n",
       "      <td>86</td>\n",
       "      <td>Grupos funcionales alimentarios de macroinvertebrados acu{\\'a}ticos en el r{\\'\\i}o Gaira, Colombia</td>\n",
       "    </tr>\n",
       "    <tr>\n",
       "      <th>12</th>\n",
       "      <td>An Approach of the Sintering YBa2Cu3O7&amp;#8722;&amp;#948; System</td>\n",
       "      <td>2012</td>\n",
       "      <td>An Approach of the Sintering YBa2Cu3O7- $δ$ System</td>\n",
       "      <td>2013</td>\n",
       "      <td>85</td>\n",
       "      <td>An Approach of the Sintering YBa2Cu3O7- $\\delta$ System</td>\n",
       "    </tr>\n",
       "    <tr>\n",
       "      <th>13</th>\n",
       "      <td>JANNETH GONZALEZ SANTOS, \"NMDARs in neurological diseases: A potential therapeutic target\"</td>\n",
       "      <td>2014</td>\n",
       "      <td>NMDARs in neurological diseases: a potential therapeutic target</td>\n",
       "      <td>2015</td>\n",
       "      <td>82</td>\n",
       "      <td>NMDARs in neurological diseases: a potential therapeutic target</td>\n",
       "    </tr>\n",
       "    <tr>\n",
       "      <th>14</th>\n",
       "      <td>Potencial antioxidante y antimicrobiano de extractos acuosos e hidroalcohólicos de granadilla (Passiflora ligularis)</td>\n",
       "      <td>2014</td>\n",
       "      <td>Potencial antioxidante y antimicrobiano de los extractos acuosos e hidroalcohólicos de Passiflora ligularis (Granadilla)</td>\n",
       "      <td>2014</td>\n",
       "      <td>88</td>\n",
       "      <td>Potencial antioxidante y antimicrobiano de los extractos acuosos e hidroalcoh{\\'o}licos de Passiflora ligularis (Granadilla)</td>\n",
       "    </tr>\n",
       "    <tr>\n",
       "      <th>15</th>\n",
       "      <td>El papel de los movimientos sociales en la consolidación democrática: alcances y desafíos. (caso ecuatoriano en perspectiva comparada)</td>\n",
       "      <td>2006</td>\n",
       "      <td>El papel de los movimientos sociales en la consolidación democrática: reflexiones alrededor del caso ecuatoriano en perspectiva comparada</td>\n",
       "      <td>2006</td>\n",
       "      <td>89</td>\n",
       "      <td>El papel de los movimientos sociales en la consolidaci{\\'o}n democr{\\'a}tica: reflexiones alrededor del caso ecuatoriano en perspectiva comparada</td>\n",
       "    </tr>\n",
       "    <tr>\n",
       "      <th>16</th>\n",
       "      <td>Descripción anatómica e histológica del tracto digestivo del nicuro Pimelodus blochii</td>\n",
       "      <td>2013</td>\n",
       "      <td>Descripción anatómica e histológica del tracto digestivo de Nicuro Pimelodus blochii (Valenciennes, 1840)</td>\n",
       "      <td>2013</td>\n",
       "      <td>88</td>\n",
       "      <td>Descripci{\\'o}n anat{\\'o}mica e histol{\\'o}gica del tracto digestivo de Nicuro Pimelodus blochii (Valenciennes, 1840)</td>\n",
       "    </tr>\n",
       "    <tr>\n",
       "      <th>17</th>\n",
       "      <td>los modelos pedagogicos y su relación con las concepciones del derecho puntos de encuentro</td>\n",
       "      <td>2018</td>\n",
       "      <td>Los modelos pedagógicos y su relación con las concepciones del derecho: puntos de encuentro con la educación en derecho</td>\n",
       "      <td>2018</td>\n",
       "      <td>86</td>\n",
       "      <td>Los modelos pedag{\\'o}gicos y su relaci{\\'o}n con las concepciones del derecho: puntos de encuentro con la educaci{\\'o}n en derecho</td>\n",
       "    </tr>\n",
       "    <tr>\n",
       "      <th>18</th>\n",
       "      <td>Estimates of DNA damage in the direct-developing frog Eleutherodactylus johnstonei (Anura: Eleutherodactylidae) by the comet assay</td>\n",
       "      <td>2011</td>\n",
       "      <td>Estimates of DNA damage by the comet assay in the direct-developing frog Eleutherodactylus johnstonei (Anura, Eleutherodactylidae)</td>\n",
       "      <td>2011</td>\n",
       "      <td>85</td>\n",
       "      <td>Estimates of DNA damage by the comet assay in the direct-developing frog Eleutherodactylus johnstonei (Anura, Eleutherodactylidae)</td>\n",
       "    </tr>\n",
       "  </tbody>\n",
       "</table>\n",
       "</div>"
      ],
      "text/plain": [
       "                                                                                                                                                                                            NME_PRODUCTO_PD  \\\n",
       "0                                                                             Riqueza genérica y distribución de Elmidae (Insecta: Coleoptera, Byrrhoidea) en el departamento del Valle del Cauca, Colombia   \n",
       "1                                                                                                  Efficient Software Implementation of the Nearly Optimal Sparse Fast Fourier Transform for the Noisy Case   \n",
       "2                                                                                                                     Gastric mucosa-Associated lymphoid tissue lymphomas and Helicobacter pylori infection   \n",
       "3   Determinación de anticuerpos totales (IgG/IgM) y específicos (IgM) para el virus de la hepatitis E y detección molecular del virus en heces de humanos con o sin exposición ocupacional a porcinos e...   \n",
       "4                                                                                               Measurements of inclusive W and Z cross sections in pp collisions at &#8730;s = 7 TeV The CMS collaboration   \n",
       "5                                                 112. Hydrostatic pressure and electric and magnetic field effects on the binding energy of a hydrogenic donor impurity in InAs Poschl-Teller quantum ring   \n",
       "6                                                                                                                         Crítica al control jerárquico de los regímenes políticos: complejidad y topología   \n",
       "7                                                                                                                              The interplay between sharing behavior and beliefs about others in children.   \n",
       "8                                                                                                                    La estructura de capital en las medianas empresas del departamento de Boyacá, Colombia   \n",
       "9                                                                                                                                 Letters to editor Laryngeal histoplasmosis: report first case in Colombia   \n",
       "10                                                                                                                                Letters to editor Laryngeal histoplasmosis: report first case in Colombia   \n",
       "11                                                                                                         GRUPOS FUNCIONALES ALIMENTICIOS DE MACROINVERTEBRADOS ACUÁTICOS EN UN ARROYO TROPICAL (COLOMBIA)   \n",
       "12                                                                                                                                               An Approach of the Sintering YBa2Cu3O7&#8722;&#948; System   \n",
       "13                                                                                                               JANNETH GONZALEZ SANTOS, \"NMDARs in neurological diseases: A potential therapeutic target\"   \n",
       "14                                                                                     Potencial antioxidante y antimicrobiano de extractos acuosos e hidroalcohólicos de granadilla (Passiflora ligularis)   \n",
       "15                                                                   El papel de los movimientos sociales en la consolidación democrática: alcances y desafíos. (caso ecuatoriano en perspectiva comparada)   \n",
       "16                                                                                                                    Descripción anatómica e histológica del tracto digestivo del nicuro Pimelodus blochii   \n",
       "17                                                                                                               los modelos pedagogicos y su relación con las concepciones del derecho puntos de encuentro   \n",
       "18                                                                       Estimates of DNA damage in the direct-developing frog Eleutherodactylus johnstonei (Anura: Eleutherodactylidae) by the comet assay   \n",
       "\n",
       "    year  \\\n",
       "0   2015   \n",
       "1   2015   \n",
       "2   2012   \n",
       "3   2015   \n",
       "4   2011   \n",
       "5   2012   \n",
       "6   2015   \n",
       "7   2018   \n",
       "8   2015   \n",
       "9   2015   \n",
       "10  2015   \n",
       "11  2016   \n",
       "12  2012   \n",
       "13  2014   \n",
       "14  2014   \n",
       "15  2006   \n",
       "16  2013   \n",
       "17  2018   \n",
       "18  2011   \n",
       "\n",
       "                                                                                                                                                                                                      title  \\\n",
       "0                                                                                                Riqueza y distribución de Elmidae (Insecta: Coleoptera: Byrrhoidea) en el departamento del Chocó, Colombia   \n",
       "1                                                       Efficient Software Implementation of the Nearly Optimal Sparse Fast Fourier Transform for the Noisy Case. ing. cienc.[online]. 2015, vol. 11, n. 22   \n",
       "2                                                                                            Gastric mucosa-associated lymphoid tissue lymphomas and Helicobacter pylori infection: a Colombian perspective   \n",
       "3   Determinação de anticorpos totais (IgG/IgM) e especı́ficos (IgM) para o v\\ŕus da hepatite E e detecção molecular do v\\'ús em fezes de humanos com ou sem exposição ocupacional a porcinos em 10 muni...   \n",
       "4                                                                                                    Measurements of inclusive W and Z cross sections in pp collisions at $$\\backslash$sqrt $\\$s$\\$= 7$ TeV   \n",
       "5   Hydrostatic pressure, impurity position and electric and magnetic field effects on the binding energy and photo-ionization cross section of a hydrogenic donor impurity in an InAs Pöschl-Teller qua...   \n",
       "6                                                                                                                         Crı́tica ao controle hierárquico dos regimes pol\\t́icos: complexidade e topologia   \n",
       "7                                                                                                         The interplay between sharing behavior and beliefs about others in children during dictator games   \n",
       "8                                                                               La estructura de capital en las medianas empresas del departamento de Boyacá, Colombia. Apuntes del CENES, 34 (59), 185-206   \n",
       "9                                                                                                                                                   Laryngeal Histoplasmosis: report first case in Colombia   \n",
       "10                                                                                                                                                  Laryngeal Histoplasmosis: report first case in Colombia   \n",
       "11                                                                                                               Grupos funcionales alimentarios de macroinvertebrados acuáticos en el rı́o Gaira, Colombia   \n",
       "12                                                                                                                                                       An Approach of the Sintering YBa2Cu3O7- $δ$ System   \n",
       "13                                                                                                                                          NMDARs in neurological diseases: a potential therapeutic target   \n",
       "14                                                                                 Potencial antioxidante y antimicrobiano de los extractos acuosos e hidroalcohólicos de Passiflora ligularis (Granadilla)   \n",
       "15                                                                El papel de los movimientos sociales en la consolidación democrática: reflexiones alrededor del caso ecuatoriano en perspectiva comparada   \n",
       "16                                                                                                Descripción anatómica e histológica del tracto digestivo de Nicuro Pimelodus blochii (Valenciennes, 1840)   \n",
       "17                                                                                  Los modelos pedagógicos y su relación con las concepciones del derecho: puntos de encuentro con la educación en derecho   \n",
       "18                                                                       Estimates of DNA damage by the comet assay in the direct-developing frog Eleutherodactylus johnstonei (Anura, Eleutherodactylidae)   \n",
       "\n",
       "    year  ratio  \\\n",
       "0   2016     88   \n",
       "1   1794     85   \n",
       "2   2012     87   \n",
       "3   2015     86   \n",
       "4   2011     83   \n",
       "5   2011     83   \n",
       "6   2015     86   \n",
       "7   2018     87   \n",
       "8   2015     83   \n",
       "9   2014     86   \n",
       "10  2014     86   \n",
       "11  2011     86   \n",
       "12  2013     85   \n",
       "13  2015     82   \n",
       "14  2014     88   \n",
       "15  2006     89   \n",
       "16  2013     88   \n",
       "17  2018     86   \n",
       "18  2011     85   \n",
       "\n",
       "                                                                                                                                                                                                     Gtitle  \n",
       "0                                                                                        Riqueza y distribuci{\\'o}n de Elmidae (Insecta: Coleoptera: Byrrhoidea) en el departamento del Choc{\\'o}, Colombia  \n",
       "1                                                       Efficient Software Implementation of the Nearly Optimal Sparse Fast Fourier Transform for the Noisy Case. ing. cienc.[online]. 2015, vol. 11, n. 22  \n",
       "2                                                                                            Gastric mucosa-associated lymphoid tissue lymphomas and Helicobacter pylori infection: a Colombian perspective  \n",
       "3   Determina{\\c{c}}{\\~a}o de anticorpos totais (IgG/IgM) e espec{\\'\\i}ficos (IgM) para o v{\\'\\i}rus da hepatite E e detec{\\c{c}}{\\~a}o molecular do v{\\'\\i}rus em fezes de humanos com ou sem exposi{\\c...  \n",
       "4                                                                                                  Measurements of inclusive W and Z cross sections in pp collisions at $$\\backslash$sqrt $\\{$s$\\}$= 7$ TeV  \n",
       "5   Hydrostatic pressure, impurity position and electric and magnetic field effects on the binding energy and photo-ionization cross section of a hydrogenic donor impurity in an InAs P{\\\"o}schl-Teller...  \n",
       "6                                                                                                             Cr{\\'\\i}tica ao controle hier{\\'a}rquico dos regimes pol{\\'\\i}ticos: complexidade e topologia  \n",
       "7                                                                                                         The interplay between sharing behavior and beliefs about others in children during dictator games  \n",
       "8                                                                           La estructura de capital en las medianas empresas del departamento de Boyac{\\'a}, Colombia. Apuntes del CENES, 34 (59), 185-206  \n",
       "9                                                                                                                                                   Laryngeal Histoplasmosis: report first case in Colombia  \n",
       "10                                                                                                                                                  Laryngeal Histoplasmosis: report first case in Colombia  \n",
       "11                                                                                                       Grupos funcionales alimentarios de macroinvertebrados acu{\\'a}ticos en el r{\\'\\i}o Gaira, Colombia  \n",
       "12                                                                                                                                                  An Approach of the Sintering YBa2Cu3O7- $\\delta$ System  \n",
       "13                                                                                                                                          NMDARs in neurological diseases: a potential therapeutic target  \n",
       "14                                                                             Potencial antioxidante y antimicrobiano de los extractos acuosos e hidroalcoh{\\'o}licos de Passiflora ligularis (Granadilla)  \n",
       "15                                                        El papel de los movimientos sociales en la consolidaci{\\'o}n democr{\\'a}tica: reflexiones alrededor del caso ecuatoriano en perspectiva comparada  \n",
       "16                                                                                    Descripci{\\'o}n anat{\\'o}mica e histol{\\'o}gica del tracto digestivo de Nicuro Pimelodus blochii (Valenciennes, 1840)  \n",
       "17                                                                      Los modelos pedag{\\'o}gicos y su relaci{\\'o}n con las concepciones del derecho: puntos de encuentro con la educaci{\\'o}n en derecho  \n",
       "18                                                                       Estimates of DNA damage by the comet assay in the direct-developing frog Eleutherodactylus johnstonei (Anura, Eleutherodactylidae)  "
      ]
     },
     "execution_count": 134,
     "metadata": {},
     "output_type": "execute_result"
    }
   ],
   "source": [
    "mt[ (mt['ratio']>80) & (mt['ratio']<90) ].reset_index(drop=True)"
   ]
  },
  {
   "cell_type": "code",
   "execution_count": null,
   "id": "72879ce8-8141-4bef-9c09-b13a044e7e2e",
   "metadata": {},
   "outputs": [],
   "source": []
  }
 ],
 "metadata": {
  "kernelspec": {
   "display_name": "Python 3 (ipykernel)",
   "language": "python",
   "name": "python3"
  },
  "language_info": {
   "codemirror_mode": {
    "name": "ipython",
    "version": 3
   },
   "file_extension": ".py",
   "mimetype": "text/x-python",
   "name": "python",
   "nbconvert_exporter": "python",
   "pygments_lexer": "ipython3",
   "version": "3.9.2"
  }
 },
 "nbformat": 4,
 "nbformat_minor": 5
}
