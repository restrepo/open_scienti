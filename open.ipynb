{
 "cells": [
  {
   "cell_type": "code",
   "execution_count": 1,
   "id": "26b8ae86-724c-4f3c-931c-5b18d0c00da2",
   "metadata": {},
   "outputs": [],
   "source": [
    "import pandas as pd                                                                                                                                                                                                                                                                                                                                                                                                                                                                                                                                                                                             "
   ]
  },
  {
   "cell_type": "code",
   "execution_count": 2,
   "id": "fda021f9-73c9-4c1d-aff1-a99529704e8c",
   "metadata": {},
   "outputs": [],
   "source": [
    "df=pd.read_csv('data/1-Producci_n_Grupos_Investigaci_n.csv',low_memory=False)#,nrows=100)"
   ]
  },
  {
   "cell_type": "code",
   "execution_count": 3,
   "id": "dad57cfb-6b4b-4823-a7cd-119562e473ad",
   "metadata": {},
   "outputs": [
    {
     "data": {
      "text/plain": [
       "(2254793, 14)"
      ]
     },
     "execution_count": 3,
     "metadata": {},
     "output_type": "execute_result"
    }
   ],
   "source": [
    "df.shape"
   ]
  },
  {
   "cell_type": "code",
   "execution_count": 4,
   "id": "d1b441f0-6181-4fa0-ac91-4ea8afd370fb",
   "metadata": {},
   "outputs": [],
   "source": [
    "df=df[df['NME_TIPOLOGIA_PD']=='Artículos de investigación'].reset_index(drop=True)"
   ]
  },
  {
   "cell_type": "code",
   "execution_count": 5,
   "id": "3b43d649-f5b2-4a31-b9e6-ab96fb420467",
   "metadata": {},
   "outputs": [],
   "source": [
    "df=df.sample(1000).reset_index(drop=True)"
   ]
  },
  {
   "cell_type": "code",
   "execution_count": 7,
   "id": "a6bcb5e6-332a-48c0-8d15-dceca17d267f",
   "metadata": {},
   "outputs": [],
   "source": [
    "co=pd.read_json('data/scholar_colombia.json',orient='records',lines=True)#,nrows=1)"
   ]
  },
  {
   "cell_type": "code",
   "execution_count": 8,
   "id": "4a48f2d2-a34e-4fcd-83b2-4b3a248c5769",
   "metadata": {},
   "outputs": [],
   "source": [
    "co=co.drop(['abstract','cites_link','lookup_url'],axis='columns')"
   ]
  },
  {
   "cell_type": "code",
   "execution_count": 9,
   "id": "f015eed2-786d-4a27-afe0-71a91e887f34",
   "metadata": {},
   "outputs": [
    {
     "data": {
      "text/plain": [
       "(181040, 21)"
      ]
     },
     "execution_count": 9,
     "metadata": {},
     "output_type": "execute_result"
    }
   ],
   "source": [
    "co.shape"
   ]
  },
  {
   "cell_type": "code",
   "execution_count": 10,
   "id": "393c3b6f-338e-4b60-bd59-5039453d071e",
   "metadata": {},
   "outputs": [],
   "source": [
    "import wosplus as wp"
   ]
  },
  {
   "cell_type": "code",
   "execution_count": 11,
   "id": "1bf35fa2-d5e4-4a46-b6e7-f97b37c04f73",
   "metadata": {},
   "outputs": [
    {
     "data": {
      "text/plain": [
       "\u001b[0;31mSignature:\u001b[0m\n",
       "\u001b[0mwp\u001b[0m\u001b[0;34m.\u001b[0m\u001b[0mmerge_with_close_matches\u001b[0m\u001b[0;34m(\u001b[0m\u001b[0;34m\u001b[0m\n",
       "\u001b[0;34m\u001b[0m    \u001b[0mleft\u001b[0m\u001b[0;34m,\u001b[0m\u001b[0;34m\u001b[0m\n",
       "\u001b[0;34m\u001b[0m    \u001b[0mright\u001b[0m\u001b[0;34m,\u001b[0m\u001b[0;34m\u001b[0m\n",
       "\u001b[0;34m\u001b[0m    \u001b[0mleft_on\u001b[0m\u001b[0;34m=\u001b[0m\u001b[0;34m'ST'\u001b[0m\u001b[0;34m,\u001b[0m\u001b[0;34m\u001b[0m\n",
       "\u001b[0;34m\u001b[0m    \u001b[0mright_on\u001b[0m\u001b[0;34m=\u001b[0m\u001b[0;34m'UDEA_simple_título'\u001b[0m\u001b[0;34m,\u001b[0m\u001b[0;34m\u001b[0m\n",
       "\u001b[0;34m\u001b[0m    \u001b[0mleft_extra_on\u001b[0m\u001b[0;34m=\u001b[0m\u001b[0;34m'SO'\u001b[0m\u001b[0;34m,\u001b[0m\u001b[0;34m\u001b[0m\n",
       "\u001b[0;34m\u001b[0m    \u001b[0mright_extra_on\u001b[0m\u001b[0;34m=\u001b[0m\u001b[0;34m'UDEA_nombre revista o premio'\u001b[0m\u001b[0;34m,\u001b[0m\u001b[0;34m\u001b[0m\n",
       "\u001b[0;34m\u001b[0m    \u001b[0mhow\u001b[0m\u001b[0;34m=\u001b[0m\u001b[0;34m'inner'\u001b[0m\u001b[0;34m,\u001b[0m\u001b[0;34m\u001b[0m\n",
       "\u001b[0;34m\u001b[0m    \u001b[0mn\u001b[0m\u001b[0;34m=\u001b[0m\u001b[0;36m1\u001b[0m\u001b[0;34m,\u001b[0m\u001b[0;34m\u001b[0m\n",
       "\u001b[0;34m\u001b[0m    \u001b[0mcutoff\u001b[0m\u001b[0;34m=\u001b[0m\u001b[0;36m0.6\u001b[0m\u001b[0;34m,\u001b[0m\u001b[0;34m\u001b[0m\n",
       "\u001b[0;34m\u001b[0m    \u001b[0mfull\u001b[0m\u001b[0;34m=\u001b[0m\u001b[0;32mTrue\u001b[0m\u001b[0;34m,\u001b[0m\u001b[0;34m\u001b[0m\n",
       "\u001b[0;34m\u001b[0m    \u001b[0mcutoff_extra\u001b[0m\u001b[0;34m=\u001b[0m\u001b[0;36m0.6\u001b[0m\u001b[0;34m,\u001b[0m\u001b[0;34m\u001b[0m\n",
       "\u001b[0;34m\u001b[0m\u001b[0;34m)\u001b[0m\u001b[0;34m\u001b[0m\u001b[0;34m\u001b[0m\u001b[0m\n",
       "\u001b[0;31mDocstring:\u001b[0m\n",
       "For each entry of the column: left_on of DataFrame left (cannot have empty fields),\n",
       "try to find the close match inside each row of right DataFrame, by comparing with\n",
       "the right_on entry of the row. When a row match is found, the full right row is appended\n",
       "to the matched row in the left DataFrame.\n",
       "If the similarity between the entries at left_on and right_on is less than 0.8,\n",
       "an additional check is performed between the entries left_extra_on and right_extra_on\n",
       "of the matched row.\n",
       "\n",
       "how implemented: inner and left (Default: inner)\n",
       "\u001b[0;31mFile:\u001b[0m      /usr/local/lib/python3.9/dist-packages/wosplus/_wos_scp.py\n",
       "\u001b[0;31mType:\u001b[0m      function\n"
      ]
     },
     "metadata": {},
     "output_type": "display_data"
    }
   ],
   "source": [
    "wp.merge_with_close_matches?"
   ]
  },
  {
   "cell_type": "code",
   "execution_count": 12,
   "id": "562c8192-a7a7-4f8d-bb12-e0ab989c9135",
   "metadata": {},
   "outputs": [
    {
     "data": {
      "text/plain": [
       "Index(['ID_CONVOCATORIA', 'NME_CONVOCATORIA', 'ANO_CONVO', 'ID_PRODUCTO_PD',\n",
       "       'NME_CLASE_PD', 'NME_TIPO_MEDICION_PD', 'NME_TIPOLOGIA_PD',\n",
       "       'ID_TIPO_PD_MED', 'NME_CATEGORIA_PD', 'FCREACION_PD', 'NME_PRODUCTO_PD',\n",
       "       'COD_GRUPO_GR', 'NME_GRUPO_GR', 'ID_PERSONA_PD'],\n",
       "      dtype='object')"
      ]
     },
     "execution_count": 12,
     "metadata": {},
     "output_type": "execute_result"
    }
   ],
   "source": [
    "df.columns"
   ]
  },
  {
   "cell_type": "code",
   "execution_count": 18,
   "id": "8c782c8b-9927-4cf1-9776-f868c5430ec7",
   "metadata": {},
   "outputs": [],
   "source": [
    "df['year']=df['FCREACION_PD'].str.split('/').str[-1]"
   ]
  },
  {
   "cell_type": "code",
   "execution_count": 13,
   "id": "7620bc18-3e1b-4cb5-ad21-678bcd0db359",
   "metadata": {},
   "outputs": [
    {
     "data": {
      "text/plain": [
       "Index(['_id', 'title', 'author', 'profiles', 'cites', 'journal', 'publisher',\n",
       "       'country', 'doi', 'year', 'volume', 'issue', 'pages', 'ref', 'pdf',\n",
       "       'cid', 'rp', 'bibtex', 'old_title', 'article_id', 'timestamp'],\n",
       "      dtype='object')"
      ]
     },
     "execution_count": 13,
     "metadata": {},
     "output_type": "execute_result"
    }
   ],
   "source": [
    "co.columns"
   ]
  },
  {
   "cell_type": "code",
   "execution_count": 19,
   "id": "a68889e3-9f33-4145-ab47-0c907692539b",
   "metadata": {},
   "outputs": [
    {
     "name": "stdout",
     "output_type": "stream",
     "text": [
      ".........."
     ]
    }
   ],
   "source": [
    "mt=wp.merge_with_close_matches(df[['NME_PRODUCTO_PD','year']],co[['title', 'year']],\n",
    "                              left_on='NME_PRODUCTO_PD',\n",
    "                              right_on='title',\n",
    "                              left_extra_on='year',\n",
    "                              right_extra_on='year',\n",
    "                              how='left',                              \n",
    "                              )"
   ]
  },
  {
   "cell_type": "code",
   "execution_count": 22,
   "id": "c369cabf-22da-4b47-ab36-5f1276de8f4b",
   "metadata": {},
   "outputs": [
    {
     "data": {
      "text/plain": [
       "(738,)"
      ]
     },
     "execution_count": 22,
     "metadata": {},
     "output_type": "execute_result"
    }
   ],
   "source": [
    "mt.title.dropna().shape"
   ]
  },
  {
   "cell_type": "code",
   "execution_count": null,
   "id": "3701c2a8-2337-4f73-9acb-82da091ad831",
   "metadata": {},
   "outputs": [],
   "source": []
  }
 ],
 "metadata": {
  "kernelspec": {
   "display_name": "Python 3 (ipykernel)",
   "language": "python",
   "name": "python3"
  },
  "language_info": {
   "codemirror_mode": {
    "name": "ipython",
    "version": 3
   },
   "file_extension": ".py",
   "mimetype": "text/x-python",
   "name": "python",
   "nbconvert_exporter": "python",
   "pygments_lexer": "ipython3",
   "version": "3.9.2"
  }
 },
 "nbformat": 4,
 "nbformat_minor": 5
}
